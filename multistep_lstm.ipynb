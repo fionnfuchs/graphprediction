{
 "cells": [
  {
   "cell_type": "markdown",
   "metadata": {},
   "source": [
    "https://www.alphavantage.co/query?function=FX_INTRADAY&from_symbol=EUR&to_symbol=USD&interval=1min&apikey=B76GBTN7SXNUU3TS&datatype=csv\n",
    "\n"
   ]
  },
  {
   "cell_type": "code",
   "execution_count": 2,
   "metadata": {
    "scrolled": false
   },
   "outputs": [
    {
     "name": "stderr",
     "output_type": "stream",
     "text": [
      "/Users/fuchs/anaconda3/envs/python35/lib/python3.5/site-packages/h5py/__init__.py:36: FutureWarning: Conversion of the second argument of issubdtype from `float` to `np.floating` is deprecated. In future, it will be treated as `np.float64 == np.dtype(float).type`.\n",
      "  from ._conv import register_converters as _register_converters\n",
      "Using TensorFlow backend.\n"
     ]
    }
   ],
   "source": [
    "import numpy\n",
    "import matplotlib.pyplot as plt\n",
    "from pandas import read_csv\n",
    "import math\n",
    "from keras.models import Sequential\n",
    "from keras.layers import Dense\n",
    "from keras.layers import LSTM\n",
    "from sklearn.preprocessing import MinMaxScaler\n",
    "from sklearn.metrics import mean_squared_error"
   ]
  },
  {
   "cell_type": "code",
   "execution_count": 3,
   "metadata": {
    "scrolled": false
   },
   "outputs": [
    {
     "name": "stdout",
     "output_type": "stream",
     "text": [
      "3.5.4\n"
     ]
    }
   ],
   "source": [
    "# Check python version - should be 3.5.*\n",
    "from platform import python_version\n",
    "\n",
    "print(python_version())"
   ]
  },
  {
   "cell_type": "code",
   "execution_count": 192,
   "metadata": {},
   "outputs": [],
   "source": [
    "# Create network and compile\n",
    "# Look back is the amount of samples in the past the network takes into consideration\n",
    "look_back = 10\n",
    "model = Sequential()\n",
    "model.add(LSTM(8, input_shape=(1, look_back)))\n",
    "model.add(Dense(1))\n",
    "model.compile(loss='mean_squared_error', optimizer='adam')"
   ]
  },
  {
   "cell_type": "code",
   "execution_count": 202,
   "metadata": {
    "scrolled": false
   },
   "outputs": [
    {
     "data": {
      "image/png": "[encoded data removed]",
      "text/plain": [
       "<matplotlib.figure.Figure at 0x1a3152d400>"
      ]
     },
     "metadata": {},
     "output_type": "display_data"
    }
   ],
   "source": [
    "numpy.random.seed(7)\n",
    "# load dataset\n",
    "dataframe = read_csv('fxintraday2.csv', usecols=[1], engine='python')\n",
    "dataset = dataframe.values\n",
    "dataset = dataset.astype('float32')\n",
    "plt.plot(dataset)\n",
    "plt.show()\n",
    "# normalize\n",
    "scaler = MinMaxScaler(feature_range=(0, 1))\n",
    "dataset = scaler.fit_transform(dataset)\n",
    "# split into train and test sets\n",
    "train_size = int(len(dataset) * 0.67)\n",
    "test_size = len(dataset) - train_size\n",
    "train, test = dataset[0:train_size,:], dataset[train_size:len(dataset),:]\n",
    "# do some reshaping\n",
    "trainX, trainY = create_dataset(train, look_back)\n",
    "testX, testY = create_dataset(test, look_back)\n",
    "\n",
    "\n",
    "# reshape input \n",
    "trainX = numpy.reshape(trainX, (trainX.shape[0], 1, trainX.shape[1]))\n",
    "testX = numpy.reshape(testX, (testX.shape[0], 1, testX.shape[1]))"
   ]
  },
  {
   "cell_type": "code",
   "execution_count": 203,
   "metadata": {
    "scrolled": true
   },
   "outputs": [
    {
     "name": "stdout",
     "output_type": "stream",
     "text": [
      "Epoch 1/100\n",
      "56/56 [==============================] - 0s 4ms/step - loss: 0.0166\n",
      "Epoch 2/100\n",
      "56/56 [==============================] - 0s 5ms/step - loss: 0.0163\n",
      "Epoch 3/100\n",
      "56/56 [==============================] - 0s 4ms/step - loss: 0.0157\n",
      "Epoch 4/100\n",
      "56/56 [==============================] - 0s 5ms/step - loss: 0.0152\n",
      "Epoch 5/100\n",
      "56/56 [==============================] - 0s 4ms/step - loss: 0.0153\n",
      "Epoch 6/100\n",
      "56/56 [==============================] - 0s 4ms/step - loss: 0.0155\n",
      "Epoch 7/100\n",
      "56/56 [==============================] - 0s 4ms/step - loss: 0.0151\n",
      "Epoch 8/100\n",
      "56/56 [==============================] - 0s 5ms/step - loss: 0.0142\n",
      "Epoch 9/100\n",
      "56/56 [==============================] - 0s 4ms/step - loss: 0.0147\n",
      "Epoch 10/100\n",
      "56/56 [==============================] - 0s 4ms/step - loss: 0.0138\n",
      "Epoch 11/100\n",
      "56/56 [==============================] - 0s 4ms/step - loss: 0.0146\n",
      "Epoch 12/100\n",
      "56/56 [==============================] - 0s 4ms/step - loss: 0.0140\n",
      "Epoch 13/100\n",
      "56/56 [==============================] - 0s 4ms/step - loss: 0.0141\n",
      "Epoch 14/100\n",
      "56/56 [==============================] - 0s 4ms/step - loss: 0.0140\n",
      "Epoch 15/100\n",
      "56/56 [==============================] - 0s 4ms/step - loss: 0.0137\n",
      "Epoch 16/100\n",
      "56/56 [==============================] - 0s 5ms/step - loss: 0.0136\n",
      "Epoch 17/100\n",
      "56/56 [==============================] - 0s 4ms/step - loss: 0.0132\n",
      "Epoch 18/100\n",
      "56/56 [==============================] - 0s 4ms/step - loss: 0.0137\n",
      "Epoch 19/100\n",
      "56/56 [==============================] - 0s 3ms/step - loss: 0.0129\n",
      "Epoch 20/100\n",
      "56/56 [==============================] - 0s 4ms/step - loss: 0.0134\n",
      "Epoch 21/100\n",
      "56/56 [==============================] - 0s 5ms/step - loss: 0.0134\n",
      "Epoch 22/100\n",
      "56/56 [==============================] - 0s 5ms/step - loss: 0.0131\n",
      "Epoch 23/100\n",
      "56/56 [==============================] - 0s 4ms/step - loss: 0.0132\n",
      "Epoch 24/100\n",
      "56/56 [==============================] - 0s 3ms/step - loss: 0.0135\n",
      "Epoch 25/100\n",
      "56/56 [==============================] - 0s 5ms/step - loss: 0.0133\n",
      "Epoch 26/100\n",
      "56/56 [==============================] - 0s 4ms/step - loss: 0.0128\n",
      "Epoch 27/100\n",
      "56/56 [==============================] - 0s 5ms/step - loss: 0.0129\n",
      "Epoch 28/100\n",
      "56/56 [==============================] - 0s 3ms/step - loss: 0.0131\n",
      "Epoch 29/100\n",
      "56/56 [==============================] - 0s 3ms/step - loss: 0.0129\n",
      "Epoch 30/100\n",
      "56/56 [==============================] - 0s 4ms/step - loss: 0.0125\n",
      "Epoch 31/100\n",
      "56/56 [==============================] - 0s 4ms/step - loss: 0.0131\n",
      "Epoch 32/100\n",
      "56/56 [==============================] - 0s 4ms/step - loss: 0.0138\n",
      "Epoch 33/100\n",
      "56/56 [==============================] - 0s 4ms/step - loss: 0.0119\n",
      "Epoch 34/100\n",
      "56/56 [==============================] - 0s 4ms/step - loss: 0.0133\n",
      "Epoch 35/100\n",
      "56/56 [==============================] - 0s 4ms/step - loss: 0.0129\n",
      "Epoch 36/100\n",
      "56/56 [==============================] - 0s 4ms/step - loss: 0.0124\n",
      "Epoch 37/100\n",
      "56/56 [==============================] - 0s 4ms/step - loss: 0.0127\n",
      "Epoch 38/100\n",
      "56/56 [==============================] - 0s 4ms/step - loss: 0.0121\n",
      "Epoch 39/100\n",
      "56/56 [==============================] - 0s 4ms/step - loss: 0.0126\n",
      "Epoch 40/100\n",
      "56/56 [==============================] - 0s 4ms/step - loss: 0.0127\n",
      "Epoch 41/100\n",
      "56/56 [==============================] - 0s 4ms/step - loss: 0.0122\n",
      "Epoch 42/100\n",
      "56/56 [==============================] - 0s 5ms/step - loss: 0.0120\n",
      "Epoch 43/100\n",
      "56/56 [==============================] - 0s 4ms/step - loss: 0.0125\n",
      "Epoch 44/100\n",
      "56/56 [==============================] - 0s 3ms/step - loss: 0.0122\n",
      "Epoch 45/100\n",
      "56/56 [==============================] - 0s 4ms/step - loss: 0.0127\n",
      "Epoch 46/100\n",
      "56/56 [==============================] - 0s 5ms/step - loss: 0.0119\n",
      "Epoch 47/100\n",
      "56/56 [==============================] - 0s 4ms/step - loss: 0.0118\n",
      "Epoch 48/100\n",
      "56/56 [==============================] - 0s 4ms/step - loss: 0.0119\n",
      "Epoch 49/100\n",
      "56/56 [==============================] - 0s 4ms/step - loss: 0.0123\n",
      "Epoch 50/100\n",
      "56/56 [==============================] - 0s 4ms/step - loss: 0.0118\n",
      "Epoch 51/100\n",
      "56/56 [==============================] - 0s 4ms/step - loss: 0.0119\n",
      "Epoch 52/100\n",
      "56/56 [==============================] - 0s 4ms/step - loss: 0.0117\n",
      "Epoch 53/100\n",
      "56/56 [==============================] - 0s 4ms/step - loss: 0.0117\n",
      "Epoch 54/100\n",
      "56/56 [==============================] - 0s 3ms/step - loss: 0.0119\n",
      "Epoch 55/100\n",
      "56/56 [==============================] - 0s 3ms/step - loss: 0.0115\n",
      "Epoch 56/100\n",
      "56/56 [==============================] - 0s 3ms/step - loss: 0.0116\n",
      "Epoch 57/100\n",
      "56/56 [==============================] - 0s 3ms/step - loss: 0.0128\n",
      "Epoch 58/100\n",
      "56/56 [==============================] - 0s 3ms/step - loss: 0.0115\n",
      "Epoch 59/100\n",
      "56/56 [==============================] - 0s 3ms/step - loss: 0.0114\n",
      "Epoch 60/100\n",
      "56/56 [==============================] - 0s 4ms/step - loss: 0.0114\n",
      "Epoch 61/100\n",
      "56/56 [==============================] - 0s 4ms/step - loss: 0.0116\n",
      "Epoch 62/100\n",
      "56/56 [==============================] - 0s 4ms/step - loss: 0.0113\n",
      "Epoch 63/100\n",
      "56/56 [==============================] - 0s 4ms/step - loss: 0.0114\n",
      "Epoch 64/100\n",
      "56/56 [==============================] - 0s 5ms/step - loss: 0.0112\n",
      "Epoch 65/100\n",
      "56/56 [==============================] - 0s 5ms/step - loss: 0.0117\n",
      "Epoch 66/100\n",
      "56/56 [==============================] - 0s 4ms/step - loss: 0.0111\n",
      "Epoch 67/100\n",
      "56/56 [==============================] - 0s 4ms/step - loss: 0.0110\n",
      "Epoch 68/100\n",
      "56/56 [==============================] - 0s 4ms/step - loss: 0.0116\n",
      "Epoch 69/100\n",
      "56/56 [==============================] - 0s 4ms/step - loss: 0.0119\n",
      "Epoch 70/100\n",
      "56/56 [==============================] - 0s 4ms/step - loss: 0.0110\n",
      "Epoch 71/100\n",
      "56/56 [==============================] - 0s 3ms/step - loss: 0.0110\n",
      "Epoch 72/100\n",
      "56/56 [==============================] - 0s 4ms/step - loss: 0.0108\n",
      "Epoch 73/100\n",
      "56/56 [==============================] - 0s 4ms/step - loss: 0.0106\n",
      "Epoch 74/100\n",
      "56/56 [==============================] - 0s 4ms/step - loss: 0.0113\n",
      "Epoch 75/100\n",
      "56/56 [==============================] - 0s 4ms/step - loss: 0.0108\n",
      "Epoch 76/100\n",
      "56/56 [==============================] - 0s 4ms/step - loss: 0.0108\n",
      "Epoch 77/100\n",
      "56/56 [==============================] - 0s 4ms/step - loss: 0.0113\n",
      "Epoch 78/100\n",
      "56/56 [==============================] - 0s 4ms/step - loss: 0.0104\n",
      "Epoch 79/100\n",
      "56/56 [==============================] - 0s 4ms/step - loss: 0.0109\n",
      "Epoch 80/100\n",
      "56/56 [==============================] - 0s 4ms/step - loss: 0.0114\n",
      "Epoch 81/100\n",
      "56/56 [==============================] - 0s 3ms/step - loss: 0.0105\n",
      "Epoch 82/100\n",
      "56/56 [==============================] - 0s 4ms/step - loss: 0.0120\n",
      "Epoch 83/100\n",
      "56/56 [==============================] - 0s 4ms/step - loss: 0.0108\n",
      "Epoch 84/100\n",
      "56/56 [==============================] - 0s 3ms/step - loss: 0.0111\n",
      "Epoch 85/100\n",
      "56/56 [==============================] - 0s 4ms/step - loss: 0.0112\n",
      "Epoch 86/100\n",
      "56/56 [==============================] - 0s 4ms/step - loss: 0.0107\n",
      "Epoch 87/100\n",
      "56/56 [==============================] - 0s 5ms/step - loss: 0.0104\n",
      "Epoch 88/100\n",
      "56/56 [==============================] - 0s 5ms/step - loss: 0.0106\n",
      "Epoch 89/100\n",
      "56/56 [==============================] - 0s 4ms/step - loss: 0.0102\n",
      "Epoch 90/100\n",
      "56/56 [==============================] - 0s 5ms/step - loss: 0.0104\n",
      "Epoch 91/100\n",
      "56/56 [==============================] - 0s 5ms/step - loss: 0.0110\n",
      "Epoch 92/100\n",
      "56/56 [==============================] - 0s 5ms/step - loss: 0.0106\n",
      "Epoch 93/100\n",
      "56/56 [==============================] - 0s 4ms/step - loss: 0.0106\n",
      "Epoch 94/100\n",
      "56/56 [==============================] - 0s 4ms/step - loss: 0.0104\n",
      "Epoch 95/100\n",
      "56/56 [==============================] - 0s 4ms/step - loss: 0.0105\n",
      "Epoch 96/100\n",
      "56/56 [==============================] - 0s 4ms/step - loss: 0.0105\n",
      "Epoch 97/100\n",
      "56/56 [==============================] - 0s 4ms/step - loss: 0.0104\n",
      "Epoch 98/100\n",
      "56/56 [==============================] - 0s 4ms/step - loss: 0.0127\n",
      "Epoch 99/100\n",
      "56/56 [==============================] - 0s 5ms/step - loss: 0.0103\n",
      "Epoch 100/100\n",
      "56/56 [==============================] - 0s 4ms/step - loss: 0.0098\n"
     ]
    },
    {
     "data": {
      "text/plain": [
       "<keras.callbacks.History at 0x1a2e63e048>"
      ]
     },
     "execution_count": 203,
     "metadata": {},
     "output_type": "execute_result"
    }
   ],
   "source": [
    "model.fit(trainX, trainY, epochs=100, batch_size=1, verbose=1)"
   ]
  },
  {
   "cell_type": "code",
   "execution_count": 207,
   "metadata": {
    "scrolled": false
   },
   "outputs": [
    {
     "name": "stdout",
     "output_type": "stream",
     "text": [
      "Input:\n"
     ]
    },
    {
     "data": {
      "image/png": "[encoded data removed]",
      "text/plain": [
       "<matplotlib.figure.Figure at 0x1a325e0c50>"
      ]
     },
     "metadata": {},
     "output_type": "display_data"
    },
    {
     "name": "stdout",
     "output_type": "stream",
     "text": [
      "Prediction and reference:\n"
     ]
    },
    {
     "data": {
      "image/png": "[encoded data removed]",
      "text/plain": [
       "<matplotlib.figure.Figure at 0x1a331a5940>"
      ]
     },
     "metadata": {},
     "output_type": "display_data"
    }
   ],
   "source": [
    "a = numpy.array([])\n",
    "for i in range(0,look_back):\n",
    "    a = numpy.append(a, testX[len(testX)-look_back*4-1][0][i])\n",
    "\n",
    "print(\"Input:\")\n",
    "plt.plot(a)\n",
    "plt.show()\n",
    "\n",
    "predicted = numpy.array([])\n",
    "for i in range(0,look_back):\n",
    "    nextPredictionData = numpy.array([[a]])\n",
    "    prediction = model.predict(nextPredictionData)\n",
    "    predicted = numpy.append(predicted, prediction[0])\n",
    "    a = numpy.delete(a,0,0)\n",
    "    a = numpy.append(a, prediction[0])\n",
    "\n",
    "\n",
    "reference = testX[len(testX)-31][0]\n",
    "#print(predicted)\n",
    "#print(reference)\n",
    "\n",
    "print(\"Prediction and reference:\")\n",
    "plt.plot(predicted, label='Predicted')\n",
    "plt.plot(reference, label='Actual (CSV)')\n",
    "plt.legend(loc='upper left')\n",
    "plt.show()\n"
   ]
  }
 ],
 "metadata": {
  "kernelspec": {
   "display_name": "Python 3",
   "language": "python",
   "name": "python3"
  },
  "language_info": {
   "codemirror_mode": {
    "name": "ipython",
    "version": 3
   },
   "file_extension": ".py",
   "mimetype": "text/x-python",
   "name": "python",
   "nbconvert_exporter": "python",
   "pygments_lexer": "ipython3",
   "version": "3.5.4"
  }
 },
 "nbformat": 4,
 "nbformat_minor": 2
}
